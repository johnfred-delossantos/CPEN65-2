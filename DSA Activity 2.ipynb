{
  "nbformat": 4,
  "nbformat_minor": 0,
  "metadata": {
    "colab": {
      "provenance": [],
      "authorship_tag": "ABX9TyNGpvzcYRER9wZcypb7SYGB",
      "include_colab_link": true
    },
    "kernelspec": {
      "name": "python3",
      "display_name": "Python 3"
    },
    "language_info": {
      "name": "python"
    }
  },
  "cells": [
    {
      "cell_type": "markdown",
      "metadata": {
        "id": "view-in-github",
        "colab_type": "text"
      },
      "source": [
        "<a href=\"https://colab.research.google.com/github/johnfred-delossantos/CPEN65-2/blob/main/DSA%20Activity%202.ipynb\" target=\"_parent\"><img src=\"https://colab.research.google.com/assets/colab-badge.svg\" alt=\"Open In Colab\"/></a>"
      ]
    },
    {
      "cell_type": "code",
      "execution_count": 6,
      "metadata": {
        "colab": {
          "base_uri": "https://localhost:8080/"
        },
        "id": "Xtd7EvmbqMu7",
        "outputId": "b5eb3c5f-7c4d-43a8-be21-a123d405878d"
      },
      "outputs": [
        {
          "output_type": "stream",
          "name": "stdout",
          "text": [
            "Characters = ['J', 'O', 'H', 'N', ' ', 'F', 'R', 'E', 'D', ' ', 'B', 'A', 'B', 'E', 'R', 'A', ' ', 'D', 'E', 'L', 'O', 'S', ' ', 'S', 'A', 'N', 'T', 'O', 'S'] \n",
            "\n",
            "S O T N A S   S O L E D   A R E B A B   D E R F   N H O J "
          ]
        }
      ],
      "source": [
        "chars = []\n",
        "fullname = \"JOHN FRED BABERA DELOS SANTOS\"\n",
        "for n in fullname:\n",
        "  chars.append(n)\n",
        "\n",
        "print(\"Characters =\", chars, \"\\n\")\n",
        "\n",
        "## For reversing the characters\n",
        "chars.reverse()\n",
        "for n in chars:\n",
        "  print(n, end=\" \")\n"
      ]
    }
  ]
}