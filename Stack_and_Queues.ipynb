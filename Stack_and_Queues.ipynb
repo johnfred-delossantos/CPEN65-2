{
  "nbformat": 4,
  "nbformat_minor": 0,
  "metadata": {
    "colab": {
      "provenance": [],
      "authorship_tag": "ABX9TyPZ701Wp2ZHnOedtDz8z2cx",
      "include_colab_link": true
    },
    "kernelspec": {
      "name": "python3",
      "display_name": "Python 3"
    },
    "language_info": {
      "name": "python"
    }
  },
  "cells": [
    {
      "cell_type": "markdown",
      "metadata": {
        "id": "view-in-github",
        "colab_type": "text"
      },
      "source": [
        "<a href=\"https://colab.research.google.com/github/johnfred-delossantos/CPEN65-2/blob/main/Stack_and_Queues.ipynb\" target=\"_parent\"><img src=\"https://colab.research.google.com/assets/colab-badge.svg\" alt=\"Open In Colab\"/></a>"
      ]
    },
    {
      "cell_type": "code",
      "execution_count": 1,
      "metadata": {
        "colab": {
          "base_uri": "https://localhost:8080/"
        },
        "id": "Kv24UqR_Al1B",
        "outputId": "1c405a58-1d52-4804-cbf4-ca3cdfda0854"
      },
      "outputs": [
        {
          "output_type": "stream",
          "name": "stdout",
          "text": [
            "[1, 2, 3]\n",
            "[1, 2]\n",
            "[1]\n",
            "[]\n"
          ]
        }
      ],
      "source": [
        "class Stack:\n",
        "  def __init__(self):\n",
        "    self.stack = []\n",
        "\n",
        "  def push(self, dataval):\n",
        "    if dataval not in self.stack:\n",
        "      return self.stack.append(dataval)\n",
        "    else:\n",
        "      return False\n",
        "  \n",
        "  def pop(self):\n",
        "    if len(self.stack) <= 0:\n",
        "      return \"Stack is empty\"\n",
        "    else:\n",
        "      return self.stack.pop()\n",
        "\n",
        "AStack = Stack()\n",
        "AStack.push(1)\n",
        "AStack.push(2)\n",
        "AStack.push(3)\n",
        "\n",
        "print(AStack.stack)\n",
        "\n",
        "AStack.pop()\n",
        "print(AStack.stack)\n",
        "AStack.pop()\n",
        "print(AStack.stack)\n",
        "AStack.pop()\n",
        "print(AStack.stack)"
      ]
    },
    {
      "cell_type": "code",
      "source": [
        "#Application 1\n",
        "\n",
        "#Implement the above program by Queues Data Structure (enqueue and dequeue/FIFO principle)\n",
        "\n",
        "class Queue:\n",
        "  def __init__(self):\n",
        "    self.queue = []\n",
        "\n",
        "  def enqueue(self, dataval):\n",
        "    if dataval not in self.queue:\n",
        "      return self.queue.append(dataval)\n",
        "    else:\n",
        "      return False\n",
        "  \n",
        "  def dequeue(self):\n",
        "    if len(self.queue) <= 0:\n",
        "      return \"Queue is empty\"\n",
        "    else:\n",
        "      return self.queue.pop(0)\n",
        "\n",
        "BQueue = Queue()\n",
        "print(BQueue.queue)\n",
        "\n",
        "BQueue.enqueue(3)\n",
        "print(BQueue.queue)\n",
        "BQueue.enqueue(6)\n",
        "print(BQueue.queue)\n",
        "BQueue.enqueue(9)\n",
        "print(BQueue.queue)\n",
        "\n",
        "BQueue.dequeue()\n",
        "print(BQueue.queue)\n",
        "BQueue.dequeue()\n",
        "print(BQueue.queue)\n",
        "BQueue.dequeue()\n",
        "print(BQueue.queue)"
      ],
      "metadata": {
        "id": "GC_w6xX4GM5o",
        "colab": {
          "base_uri": "https://localhost:8080/"
        },
        "outputId": "42071d85-1f91-423f-80e9-5cb27f379f3c"
      },
      "execution_count": 2,
      "outputs": [
        {
          "output_type": "stream",
          "name": "stdout",
          "text": [
            "[]\n",
            "[3]\n",
            "[3, 6]\n",
            "[3, 6, 9]\n",
            "[6, 9]\n",
            "[9]\n",
            "[]\n"
          ]
        }
      ]
    }
  ]
}