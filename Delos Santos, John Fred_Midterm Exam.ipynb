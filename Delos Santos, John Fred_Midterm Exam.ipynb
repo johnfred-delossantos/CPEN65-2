{
  "nbformat": 4,
  "nbformat_minor": 0,
  "metadata": {
    "colab": {
      "provenance": [],
      "authorship_tag": "ABX9TyPYBjNYbLXCAJDvt4vPPLBI",
      "include_colab_link": true
    },
    "kernelspec": {
      "name": "python3",
      "display_name": "Python 3"
    },
    "language_info": {
      "name": "python"
    }
  },
  "cells": [
    {
      "cell_type": "markdown",
      "metadata": {
        "id": "view-in-github",
        "colab_type": "text"
      },
      "source": [
        "<a href=\"https://colab.research.google.com/github/johnfred-delossantos/CPEN65-2/blob/main/Delos%20Santos%2C%20John%20Fred_Midterm%20Exam.ipynb\" target=\"_parent\"><img src=\"https://colab.research.google.com/assets/colab-badge.svg\" alt=\"Open In Colab\"/></a>"
      ]
    },
    {
      "cell_type": "markdown",
      "source": [
        "# 1.\tWrite a Python program to create an array of 10 integers and display the array items. Access individual elements through indexes and compute for the sum."
      ],
      "metadata": {
        "id": "AoEthQ-5_hgA"
      }
    },
    {
      "cell_type": "code",
      "execution_count": null,
      "metadata": {
        "colab": {
          "base_uri": "https://localhost:8080/"
        },
        "id": "ozOHhKqj-5og",
        "outputId": "b4d13f10-7a0e-4a5f-f108-266f546293c7"
      },
      "outputs": [
        {
          "output_type": "stream",
          "name": "stdout",
          "text": [
            "array('i', [1, 3, 4, 7, 11, 18, 29, 47, 76, 123])\n",
            "The sum of the digits in the array is: 319\n"
          ]
        }
      ],
      "source": [
        "from array import array\n",
        "\n",
        "num = array('i', [1, 3, 4, 7, 11, 18, 29, 47, 76, 123])\n",
        "print(num)\n",
        "\n",
        "summation = 0\n",
        "for index in range(10):\n",
        "  summation += num[index]\n",
        "\n",
        "print(f'The sum of the digits in the array is: {summation}')"
      ]
    },
    {
      "cell_type": "markdown",
      "source": [
        "# 2.\tWrite a Python program to append a new item to the end of the array. Original array: numbers = [1, 2, 3, 4, 5, 6, 7, 8, 9, 10]"
      ],
      "metadata": {
        "id": "yQbEovnrBxAA"
      }
    },
    {
      "cell_type": "code",
      "source": [
        "from array import array\n",
        "\n",
        "numbers = array('i', [1, 2, 3, 4, 5, 6, 7, 8, 9, 10])\n",
        "print(numbers)\n",
        "\n",
        "numbers.append(11)\n",
        "print(numbers)"
      ],
      "metadata": {
        "colab": {
          "base_uri": "https://localhost:8080/"
        },
        "id": "IS0mEQP6B2Vv",
        "outputId": "819f60e6-bcac-43e6-8340-53f92161c9b3"
      },
      "execution_count": null,
      "outputs": [
        {
          "output_type": "stream",
          "name": "stdout",
          "text": [
            "array('i', [1, 2, 3, 4, 5, 6, 7, 8, 9, 10])\n",
            "array('i', [1, 2, 3, 4, 5, 6, 7, 8, 9, 10, 11])\n"
          ]
        }
      ]
    },
    {
      "cell_type": "markdown",
      "source": [
        "# 3.\tWrite a Python program to insert a new item before the second element in an existing array. Original array: numbers = [1, 2, 3, 4, 5, 6, 7, 8, 9, 10]"
      ],
      "metadata": {
        "id": "5Y_nOOozH6AY"
      }
    },
    {
      "cell_type": "code",
      "source": [
        "from array import array\n",
        "\n",
        "numbers = array('i', [1, 2, 3, 4, 5, 6, 7, 8, 9, 10])\n",
        "print(numbers)\n",
        "\n",
        "ins = numbers.insert(1, 11)\n",
        "print(numbers)"
      ],
      "metadata": {
        "colab": {
          "base_uri": "https://localhost:8080/"
        },
        "id": "HfCkfA1oIGOz",
        "outputId": "8e977932-57d7-4f11-9e39-6fb1dad6a045"
      },
      "execution_count": null,
      "outputs": [
        {
          "output_type": "stream",
          "name": "stdout",
          "text": [
            "array('i', [1, 2, 3, 4, 5, 6, 7, 8, 9, 10])\n",
            "array('i', [1, 11, 2, 3, 4, 5, 6, 7, 8, 9, 10])\n"
          ]
        }
      ]
    },
    {
      "cell_type": "markdown",
      "source": [
        "# 4.\tWrite a Python program to reverse the order of the items in the array. Original array: numbers = [5, 4, 3, 2, 1]"
      ],
      "metadata": {
        "id": "j4Kpgp-DJAJ3"
      }
    },
    {
      "cell_type": "code",
      "source": [
        "from array import array\n",
        "\n",
        "numbers = array('i', [5, 4, 3, 2, 1])\n",
        "print(f'Original order: {numbers}')\n",
        "\n",
        "numbers.reverse()\n",
        "print(f'Reversed order: {numbers}')"
      ],
      "metadata": {
        "colab": {
          "base_uri": "https://localhost:8080/"
        },
        "id": "-dxHcdI_JCk0",
        "outputId": "8225a292-a4a1-4fa3-be02-e0f91c6e51b7"
      },
      "execution_count": null,
      "outputs": [
        {
          "output_type": "stream",
          "name": "stdout",
          "text": [
            "Original order: array('i', [5, 4, 3, 2, 1])\n",
            "Reversed order: array('i', [1, 2, 3, 4, 5])\n"
          ]
        }
      ]
    },
    {
      "cell_type": "markdown",
      "source": [
        "#5.\tWrite a Python program to get the length of the array. Original array: numbers = [5, 4, 3, 2, 1]"
      ],
      "metadata": {
        "id": "L_ANLsxMKTHz"
      }
    },
    {
      "cell_type": "code",
      "source": [
        "from array import array\n",
        "\n",
        "numbers = [5, 4, 3, 2, 1]\n",
        "print(numbers)\n",
        "\n",
        "length = len(numbers)\n",
        "print(f'The length of the array is: {length}')"
      ],
      "metadata": {
        "colab": {
          "base_uri": "https://localhost:8080/"
        },
        "id": "mn4ZkCuNJ640",
        "outputId": "437f19c2-3556-4fb9-fa53-2f20100f4990"
      },
      "execution_count": null,
      "outputs": [
        {
          "output_type": "stream",
          "name": "stdout",
          "text": [
            "[5, 4, 3, 2, 1]\n",
            "The length of the array is: 5\n"
          ]
        }
      ]
    }
  ]
}